{
 "cells": [
  {
   "cell_type": "markdown",
   "metadata": {},
   "source": [
    "# Testing the logic from this research paper.\n",
    "#### Link to research paper: hhttps://arxiv.org/abs/2408.02833"
   ]
  },
  {
   "cell_type": "code",
   "execution_count": 77,
   "metadata": {},
   "outputs": [],
   "source": [
    "import numpy as np\n",
    "from sklearn.metrics import r2_score\n",
    "import matplotlib.pyplot as plt\n"
   ]
  },
  {
   "cell_type": "code",
   "execution_count": 78,
   "metadata": {},
   "outputs": [],
   "source": [
    "# Set up the data\n",
    "\n",
    "\n",
    "# Generate more data points with a linear relationship plus some noise\n",
    "X = np.array([[1, 1], [1, 2], [1, 3], [1, 4], [1, 5], [1, 6], [1, 7], [1, 8]])\n",
    "# Y = 2 + 0.5X + noise\n",
    "Y = np.array([2.1, 2.6, 3.4, 3.9, 4.3, 4.8, 5.2, 5.9])\n",
    "W = np.linalg.lstsq(X, Y, rcond=None)[0]\n",
    "\n"
   ]
  },
  {
   "cell_type": "code",
   "execution_count": 79,
   "metadata": {},
   "outputs": [],
   "source": [
    "# Initialize Precision Vectors\n",
    "\n",
    "pi_0 = np.array([0.25, 0.5]) #Bias\n",
    "pi_1 = np.array([0.25, 0.5]) #Linear term\n",
    "precision_vector_list = [pi_0, pi_1]\n",
    "\n"
   ]
  },
  {
   "cell_type": "code",
   "execution_count": 80,
   "metadata": {},
   "outputs": [],
   "source": [
    "# Create precision matrix\n",
    "def getPrecisionMatrix(precision_vector_list):\n",
    "    def create_binary_matrix(i, k):\n",
    "        arr = np.zeros((k, k))\n",
    "        arr[i,i] = 1\n",
    "        return arr\n",
    "\n",
    "    P_list = []\n",
    "\n",
    "    for i in range(len(precision_vector_list)):\n",
    "        I = create_binary_matrix(i, 2)\n",
    "        P = np.kron(I, precision_vector_list[i])\n",
    "        P_list.append(P)\n",
    "\n",
    "    P = np.sum(P_list, axis=0)\n",
    "    return P\n"
   ]
  },
  {
   "cell_type": "code",
   "execution_count": 81,
   "metadata": {},
   "outputs": [],
   "source": [
    "def build_QUBO(X, Y, P):\n",
    "    XtX = X.T @ X\n",
    "    XtY = X.T @ Y\n",
    "    \n",
    "    A = P.T @ XtX @ P   # (D*K x D*K)\n",
    "    b = -2 * (P.T @ XtY)\n",
    "    return A, b"
   ]
  },
  {
   "cell_type": "code",
   "execution_count": 82,
   "metadata": {},
   "outputs": [],
   "source": [
    "def check_if_z_is_in_list(z, z_list):\n",
    "    for z_i in z_list:\n",
    "        if np.array_equal(z, z_i):\n",
    "            return True\n",
    "    return False\n"
   ]
  },
  {
   "cell_type": "code",
   "execution_count": 83,
   "metadata": {},
   "outputs": [],
   "source": [
    "###############################################################################\n",
    "def mock_qubo_solver(A, b, num_samples=100):\n",
    "    \"\"\"\n",
    "    A simple (and very naive) \"solver\" that samples random binary vectors\n",
    "    and picks the one with the lowest QUBO energy.  This is purely illustrative:\n",
    "    in a real application, you would call a real solver (e.g. a quantum annealer).\n",
    "    \n",
    "    QUBO:  z^T A z + z^T b   where z in {0,1}^M.\n",
    "    \n",
    "    Returns:\n",
    "        best_z (M,): the best binary solution found\n",
    "    \"\"\"\n",
    "    M = A.shape[0]\n",
    "    best_z = None\n",
    "    best_energy = np.inf\n",
    "    z_list = []\n",
    "\n",
    "    for _ in range(num_samples):\n",
    "        candidate_z = np.random.randint(0, 2, size=M)  \n",
    "        if not check_if_z_is_in_list(candidate_z, z_list):\n",
    "            z_list.append(candidate_z)\n",
    "            # QUBO energy = z^T A z + z^T b + Y^T Y\n",
    "            energy = candidate_z @ A @ candidate_z + candidate_z @ b\n",
    "            if energy < best_energy:\n",
    "                best_energy = energy\n",
    "                best_z = candidate_z\n",
    "        \n",
    "    return best_z"
   ]
  },
  {
   "cell_type": "code",
   "execution_count": 84,
   "metadata": {},
   "outputs": [],
   "source": [
    "def getQUBO_test(X, Y, P):\n",
    "    # Try specific weight combinations\n",
    "    best_w = np.zeros(2)\n",
    "    r2_old = 0\n",
    "    \n",
    "    for weights in [(1,1,1,1), (1,1,0,1), (0,1,1,1)]:\n",
    "        w00, w01, w10, w11 = weights\n",
    "        w_hat = np.array([w00, w01, w10, w11])\n",
    "        w = P@w_hat.T\n",
    "        y_hat = X@w\n",
    "        # print(f\"Weights: w00={w00}, w01={w01}, w10={w10}, w11={w11}\")\n",
    "        # print(f\"Predicted y: {y_hat}\")\n",
    "        # print(f\"Weights: {w}\")\n",
    "        # rss = np.sum((Y - y_hat)**2)\n",
    "        # print(f\"RSS: {rss:.4f}\")\n",
    "        r2_new = r2_score(Y, y_hat)\n",
    "        # print(f\"R^2 score: {r2_new:.4f}\")\n",
    "        print()\n",
    "        if r2_new > r2_old:\n",
    "            r2_old = r2_new\n",
    "            best_w = w\n",
    "            best_y_hat = y_hat\n",
    "\n",
    "    print(f\"Best weights: {best_w}\")\n",
    "    return best_w\n"
   ]
  },
  {
   "cell_type": "code",
   "execution_count": 85,
   "metadata": {},
   "outputs": [
    {
     "name": "stdout",
     "output_type": "stream",
     "text": [
      "Best z: [1 1 1 1]\n",
      "w: [0.75 0.75]\n",
      "Predicted y: [1.5  2.25 3.   3.75 4.5  5.25 6.   6.75]\n",
      "Actual y: [2.1 2.6 3.4 3.9 4.3 4.8 5.2 5.9]\n",
      "RSS: 2.269999999999999\n",
      "R^2 score: 0.806231327358088\n"
     ]
    },
    {
     "data": {
      "image/png": "[encoded data removed]",
      "text/plain": [
       "<Figure size 800x600 with 1 Axes>"
      ]
     },
     "metadata": {},
     "output_type": "display_data"
    }
   ],
   "source": [
    "P = getPrecisionMatrix(precision_vector_list)\n",
    "A, b = build_QUBO(X, Y, P)\n",
    "z = mock_qubo_solver(A, b)\n",
    "print(\"Best z:\", z)\n",
    "\n",
    "w = P@z\n",
    "print(\"w:\", w)\n",
    "y_hat = X@w\n",
    "print(\"Predicted y:\", y_hat)\n",
    "print(\"Actual y:\", Y)\n",
    "print(\"RSS:\", np.sum((Y - y_hat)**2))\n",
    "print(\"R^2 score:\", r2_score(Y, y_hat))\n",
    "# Create points for the line\n",
    "x_line = np.linspace(1, 8, 100)\n",
    "y_line = W[0] + W[1] * x_line\n",
    "\n",
    "y_hat_line = w[0] + w[1] * x_line\n",
    "\n",
    "# Plot\n",
    "plt.figure(figsize=(8, 6))\n",
    "plt.scatter(X[:, 1], Y, color='blue', label='Data points')\n",
    "plt.plot(x_line, y_line, 'r--', label=f'y = {W[0]:.2f} + {W[1]:.2f}x')\n",
    "plt.plot(x_line, y_hat_line, 'g--', label=f'y_hat = {w[0]:.2f} + {w[1]:.2f}x')\n",
    "\n",
    "plt.xlabel('x')\n",
    "plt.ylabel('y')\n",
    "plt.title('Linear Regression')\n",
    "plt.legend()\n",
    "plt.grid(True)\n",
    "plt.show()"
   ]
  },
  {
   "cell_type": "code",
   "execution_count": 86,
   "metadata": {},
   "outputs": [
    {
     "name": "stdout",
     "output_type": "stream",
     "text": [
      "\n",
      "\n",
      "\n",
      "Best weights: [0.75 0.75]\n",
      "w: [0.75 0.75]\n",
      "Predicted y: [1.5  2.25 3.   3.75 4.5  5.25 6.   6.75]\n",
      "Actual y: [2.1 2.6 3.4 3.9 4.3 4.8 5.2 5.9]\n",
      "RSS: 2.269999999999999\n",
      "R^2 score: 0.806231327358088\n"
     ]
    }
   ],
   "source": [
    "P = getPrecisionMatrix(precision_vector_list)\n",
    "w = getQUBO_test(X, Y, P)\n",
    "print(\"w:\", w)\n",
    "y_hat = X@w\n",
    "print(\"Predicted y:\", y_hat)\n",
    "print(\"Actual y:\", Y)\n",
    "print(\"RSS:\", np.sum((Y - y_hat)**2))\n",
    "print(\"R^2 score:\", r2_score(Y, y_hat))"
   ]
  }
 ],
 "metadata": {
  "kernelspec": {
   "display_name": "quantum-ml",
   "language": "python",
   "name": "python3"
  },
  "language_info": {
   "codemirror_mode": {
    "name": "ipython",
    "version": 3
   },
   "file_extension": ".py",
   "mimetype": "text/x-python",
   "name": "python",
   "nbconvert_exporter": "python",
   "pygments_lexer": "ipython3",
   "version": "3.11.11"
  }
 },
 "nbformat": 4,
 "nbformat_minor": 2
}
